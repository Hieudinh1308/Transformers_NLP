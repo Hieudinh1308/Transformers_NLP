{
 "cells": [
  {
   "cell_type": "code",
   "execution_count": 1,
   "metadata": {
    "colab": {
     "base_uri": "https://localhost:8080/",
     "height": 119
    },
    "colab_type": "code",
    "id": "nQ0myH1cLaQ7",
    "outputId": "6532ebf7-6c77-4b6b-c81c-c46b0defb059"
   },
   "outputs": [
    {
     "name": "stdout",
     "output_type": "stream",
     "text": [
      "Installing transformers\n",
      "\u001b[K     |████████████████████████████████| 675kB 2.8MB/s \n",
      "\u001b[K     |████████████████████████████████| 3.8MB 12.9MB/s \n",
      "\u001b[K     |████████████████████████████████| 1.1MB 32.9MB/s \n",
      "\u001b[K     |████████████████████████████████| 890kB 42.5MB/s \n",
      "\u001b[?25h  Building wheel for sacremoses (setup.py) ... \u001b[?25l\u001b[?25hdone\n"
     ]
    }
   ],
   "source": [
    "#@title Transformer and Torch Installation\n",
    "try:\n",
    "  import transformers\n",
    "except:\n",
    "  print(\"Installing transformers\")\n",
    "  !pip -qq install transformers\n",
    "\n",
    "try:\n",
    "  import torch\n",
    "except:\n",
    "  print(\"Installing Torch\")\n",
    "  !pip -qq install torch"
   ]
  },
  {
   "cell_type": "code",
   "execution_count": 2,
   "metadata": {
    "colab": {
     "base_uri": "https://localhost:8080/",
     "height": 296,
     "referenced_widgets": [
      "3f41ce53fe774a86aeab5cedb2217a5b",
      "1a64601ca3c04b5e98e1d19375a47751",
      "edef5417bf564ca58e080362d7ff66a7",
      "83bc31d46193435cb8d2ad65d99a457b",
      "e78397c4b7bd471191db36e12639e024",
      "42ae51d8832e45be807d436f41f8ea51",
      "84785747983f453cae73f9596a7ec6f0",
      "91a64b6bf1bf4c4aa24ad0c4d08dd3df",
      "acdd285b20eb4823a8dfffe6ecd76201",
      "30c1e11f7e9c4ada902dc6edabf234f8",
      "5783ab24f4aa44ecbd2c437f01ec8bd5",
      "35e5cd80564a43749c73a0458cc0d6da",
      "236898968f1e46d2bee145d6d369d0f4",
      "c23ef21b59b141afa84133ee50e5a329",
      "1852f772c435440e897bbbdf5913598e",
      "a481c009790841bf912e0413788f2776",
      "a608132fb0c247928252b7b3011fcf7d",
      "9c0ead55753243999715167582feb852",
      "da90cce7734d450e8e39ebf5e659658f",
      "f2b8cbe27e4c4a168a9f5c8771e6f54c",
      "3a2e5325f1e04541baf033054d514e2a",
      "2266c15cbb48451bbbd5655d6435b62b",
      "9fbbb8870a95419b90cfbaa8c7db4ae1",
      "f473dd5bf92f4a5eaec7a709d37a1601",
      "f6abfb99d9c24695ab8a5db242947f54",
      "7110b475ad774c75a7855636d4212f30",
      "802be925656042b19f8c5ded138045bb",
      "59f4bcea6eb54e269d687cf9618376ea",
      "4919fefe558047d6b7f248898ac62f6f",
      "eee41447bbd7413f826225573a3836f0",
      "28e9463b30a14ee59a7b65fa99f029e5",
      "5786117a2bbb44d1aa70e3ef08872ad5",
      "e9d5f842308740368a11ed1b46aca768",
      "d8d5e37ace9b42c5b8fbe0e4763db2a5",
      "cec94035159243f9ab03a5034ed26d66",
      "651c6adc8a064096bf306e5ebc1275c7",
      "54a8b16ce66040c2b297f1b662b350c1",
      "f1c4230f55e148338f80ffff65afd1cb",
      "c2d1d30ef23346f9971c11cff4824012",
      "f62dfd28a2ef4429a8809a7b83d3cfdc"
     ]
    },
    "colab_type": "code",
    "id": "foamjwawe2OX",
    "outputId": "a3944c8e-f677-4ea6-b1e8-0894ce5d1bd4"
   },
   "outputs": [
    {
     "data": {
      "application/vnd.jupyter.widget-view+json": {
       "model_id": "3f41ce53fe774a86aeab5cedb2217a5b",
       "version_major": 2,
       "version_minor": 0
      },
      "text/plain": [
       "HBox(children=(FloatProgress(value=0.0, description='Downloading', max=442.0, style=ProgressStyle(description_…"
      ]
     },
     "metadata": {
      "tags": []
     },
     "output_type": "display_data"
    },
    {
     "name": "stdout",
     "output_type": "stream",
     "text": [
      "\n"
     ]
    },
    {
     "data": {
      "application/vnd.jupyter.widget-view+json": {
       "model_id": "acdd285b20eb4823a8dfffe6ecd76201",
       "version_major": 2,
       "version_minor": 0
      },
      "text/plain": [
       "HBox(children=(FloatProgress(value=0.0, description='Downloading', max=231508.0, style=ProgressStyle(descripti…"
      ]
     },
     "metadata": {
      "tags": []
     },
     "output_type": "display_data"
    },
    {
     "name": "stdout",
     "output_type": "stream",
     "text": [
      "\n"
     ]
    },
    {
     "data": {
      "application/vnd.jupyter.widget-view+json": {
       "model_id": "a608132fb0c247928252b7b3011fcf7d",
       "version_major": 2,
       "version_minor": 0
      },
      "text/plain": [
       "HBox(children=(FloatProgress(value=0.0, description='Downloading', max=629.0, style=ProgressStyle(description_…"
      ]
     },
     "metadata": {
      "tags": []
     },
     "output_type": "display_data"
    },
    {
     "name": "stdout",
     "output_type": "stream",
     "text": [
      "\n"
     ]
    },
    {
     "data": {
      "application/vnd.jupyter.widget-view+json": {
       "model_id": "f6abfb99d9c24695ab8a5db242947f54",
       "version_major": 2,
       "version_minor": 0
      },
      "text/plain": [
       "HBox(children=(FloatProgress(value=0.0, description='Downloading', max=230.0, style=ProgressStyle(description_…"
      ]
     },
     "metadata": {
      "tags": []
     },
     "output_type": "display_data"
    },
    {
     "name": "stdout",
     "output_type": "stream",
     "text": [
      "\n"
     ]
    },
    {
     "data": {
      "application/vnd.jupyter.widget-view+json": {
       "model_id": "e9d5f842308740368a11ed1b46aca768",
       "version_major": 2,
       "version_minor": 0
      },
      "text/plain": [
       "HBox(children=(FloatProgress(value=0.0, description='Downloading', max=267844284.0, style=ProgressStyle(descri…"
      ]
     },
     "metadata": {
      "tags": []
     },
     "output_type": "display_data"
    },
    {
     "name": "stdout",
     "output_type": "stream",
     "text": [
      "\n",
      "[{'label': 'POSITIVE', 'score': 0.999825656414032}] If you sometimes like to go to the movies to have fun , Wasabi is a good place to start .\n",
      "[{'label': 'NEGATIVE', 'score': 0.9974064230918884}] Effective but too-tepid biopic.\n"
     ]
    }
   ],
   "source": [
    "#@title SST-2 Binary Classification\n",
    "from transformers import pipeline\n",
    "\n",
    "nlp = pipeline(\"sentiment-analysis\")\n",
    "\n",
    "print(nlp(\"If you sometimes like to go to the movies to have fun , Wasabi is a good place to start .\"),\"If you sometimes like to go to the movies to have fun , Wasabi is a good place to start .\")\n",
    "print(nlp(\"Effective but too-tepid biopic.\"),\"Effective but too-tepid biopic.\")"
   ]
  },
  {
   "cell_type": "code",
   "execution_count": 3,
   "metadata": {
    "colab": {
     "base_uri": "https://localhost:8080/",
     "height": 215,
     "referenced_widgets": [
      "7ce0e4d211f34e298db9bde71aafd31d",
      "ca96ab0cd02644d2897f14ef256f9ab9",
      "c8d3c1a200884dfe8cc74efc73643d66",
      "7a9c6953595d4ab39267c4dfadbf72b4",
      "c21b433bb763464b99dbc52cd180ae85",
      "71fda054324a40bc9d852cbb94ae3240",
      "e8ae1c2f79564550beb3df70d9e08295",
      "757eaa4714064d93b99918fb9ea3cd43",
      "812815f9249b4f6cb138aed2e6a03fd4",
      "513fd9d4b17d47e385c7ec7399d7a355",
      "c0e34e4be46b4ea395b978fd7108f420",
      "a4c8291f9c0a44d28e4c89b2a6092373",
      "04ff1050a97d46fcba82145640ff6b78",
      "9bad4a56293449f68e79f5b5dd0d41c1",
      "f0f68e55618a44fd9491524d7e0d8dd5",
      "fed685ae5a7645c28bdb58e3f9703384",
      "b88724d6b16e472f8ede902cac4ae6f2",
      "163770117e5a4d0d95926e3a5d0fbf82",
      "7f2b4c0c78994c83a064056dc8e79bb3",
      "3d95ba7c826c4c3a8265755fd5738434",
      "1d5c9a930b5a4558ab0647c90d78f085",
      "61f23475c541487899f4e559125e7b46",
      "40212ae99d6e40e6a75836d1e6874dc3",
      "890f3d9f1fa5441f9f6c0e8fb8a89c8f"
     ]
    },
    "colab_type": "code",
    "id": "iILfeaHLlivA",
    "outputId": "ac628ecd-9aac-46ba-bd8c-f52a80122508"
   },
   "outputs": [
    {
     "data": {
      "application/vnd.jupyter.widget-view+json": {
       "model_id": "7ce0e4d211f34e298db9bde71aafd31d",
       "version_major": 2,
       "version_minor": 0
      },
      "text/plain": [
       "HBox(children=(FloatProgress(value=0.0, description='Downloading', max=433.0, style=ProgressStyle(description_…"
      ]
     },
     "metadata": {
      "tags": []
     },
     "output_type": "display_data"
    },
    {
     "name": "stdout",
     "output_type": "stream",
     "text": [
      "\n"
     ]
    },
    {
     "data": {
      "application/vnd.jupyter.widget-view+json": {
       "model_id": "812815f9249b4f6cb138aed2e6a03fd4",
       "version_major": 2,
       "version_minor": 0
      },
      "text/plain": [
       "HBox(children=(FloatProgress(value=0.0, description='Downloading', max=213450.0, style=ProgressStyle(descripti…"
      ]
     },
     "metadata": {
      "tags": []
     },
     "output_type": "display_data"
    },
    {
     "name": "stdout",
     "output_type": "stream",
     "text": [
      "\n"
     ]
    },
    {
     "data": {
      "application/vnd.jupyter.widget-view+json": {
       "model_id": "b88724d6b16e472f8ede902cac4ae6f2",
       "version_major": 2,
       "version_minor": 0
      },
      "text/plain": [
       "HBox(children=(FloatProgress(value=0.0, description='Downloading', max=433518744.0, style=ProgressStyle(descri…"
      ]
     },
     "metadata": {
      "tags": []
     },
     "output_type": "display_data"
    },
    {
     "name": "stdout",
     "output_type": "stream",
     "text": [
      "\n",
      "The DVD CCA appealed that decision to the U.S. Supreme Court. should be a paraphrase\n",
      "not paraphrase: 8.0%\n",
      "is paraphrase: 92.0%\n"
     ]
    }
   ],
   "source": [
    "#@title Sequence Classification : paraphrase classification\n",
    "from transformers import AutoTokenizer, TFAutoModelForSequenceClassification\n",
    "import tensorflow as tf\n",
    "\n",
    "tokenizer = AutoTokenizer.from_pretrained(\"bert-base-cased-finetuned-mrpc\")\n",
    "model = TFAutoModelForSequenceClassification.from_pretrained(\"bert-base-cased-finetuned-mrpc\")\n",
    "\n",
    "classes = [\"not paraphrase\", \"is paraphrase\"]\n",
    "\n",
    "sequence_A = \"The DVD-CCA then appealed to the state Supreme Court.\"\n",
    "sequence_B = \"The DVD CCA appealed that decision to the U.S. Supreme Court.\"\n",
    "\n",
    "paraphrase = tokenizer.encode_plus(sequence_A, sequence_B, return_tensors=\"tf\")\n",
    "\n",
    "paraphrase_classification_logits = model(paraphrase)[0]\n",
    "\n",
    "paraphrase_results = tf.nn.softmax(paraphrase_classification_logits, axis=1).numpy()[0]\n",
    "\n",
    "print(sequence_B, \"should be a paraphrase\")\n",
    "for i in range(len(classes)):\n",
    "    print(f\"{classes[i]}: {round(paraphrase_results[i] * 100)}%\")"
   ]
  },
  {
   "cell_type": "code",
   "execution_count": 4,
   "metadata": {
    "colab": {
     "base_uri": "https://localhost:8080/",
     "height": 299,
     "referenced_widgets": [
      "d6106a736cf046599bc3836b40ad804f",
      "76f684a27781484f9cd5ef43df693943",
      "d8d9185e24604408a59bb75404fd7daa",
      "6c0bd986d2664ca896244e3858448962",
      "a76a6ab098f1470cafcba41f27c75e74",
      "1df0601050254a59a1954c4c5d1d2a76",
      "ac8d253331bb458c8d9f764303bc9f0b",
      "93bad43a579342e79fdafdf673a3f8a2",
      "cf32487a5c3d4a898ca91e270c3f266b",
      "8502995caabc474c91bca08b97cfaa58",
      "98b911d9620c40a79c7fee410461d039",
      "8fb914c5733747e3bae86fcb13073767",
      "21acd0fcd9214093aa0e93845052ef7e",
      "aa67bf7e7cf940848b4061bee967052c",
      "b1d11f8f842540a682717d350d254155",
      "8418d2e012a14387b231fe12ce0b9a1a",
      "50993327f1d04882a66df50dd30cff3e",
      "61c52c61d9c740efab94997706257ba4",
      "e23a4ab1a468460a9e4b0f34ae67ef76",
      "3f1629314ca6407b832db9349a508461",
      "d577e0e2741d43b8a73489c1a0df2406",
      "76ccbe1be44a4e019e6a50d32c9abf98",
      "c6eb63c7e9e34d6d989427b9dbe9457c",
      "3d9b5bff09414a5dadc8f6f3ea279227",
      "ffd924b0cc9d492d888e5da831481033",
      "555dfb4c02df4930ae64f4f56ed158b7",
      "dc47306a92f648d4a690da79d39ac4cc",
      "c4dfc9d018534634a056aa3da58fcfef",
      "0a03eaaa65144c829bf93cacc2f66e69",
      "116c0c19179c4c5d847257a531f9269b",
      "aa9be08c10e44dfc8732f3419b5cc967",
      "86cbe5290e654770888f9cfba100ae4e",
      "5b66512a4f6944b2ab0a78631d502da3",
      "f861ad27060640a49d34dbc6384a236e",
      "63c8f259ede54eab8b7eacc2cd393191",
      "611edbb55ee74d808993a39de5044275",
      "336b49d4e3d741aea03fecc236e6333a",
      "b8c1e428241d4e67abb5df0be3eca758",
      "37c31cab7d4745d9a7944e4bdda8b970",
      "8fe12fc6327d4027ab66cb5815760e75"
     ]
    },
    "colab_type": "code",
    "id": "PyQKscwtYgCW",
    "outputId": "8ea9d4b7-0c4c-4bd9-d9c2-b497db7253f3"
   },
   "outputs": [
    {
     "data": {
      "application/vnd.jupyter.widget-view+json": {
       "model_id": "d6106a736cf046599bc3836b40ad804f",
       "version_major": 2,
       "version_minor": 0
      },
      "text/plain": [
       "HBox(children=(FloatProgress(value=0.0, description='Downloading', max=625.0, style=ProgressStyle(description_…"
      ]
     },
     "metadata": {
      "tags": []
     },
     "output_type": "display_data"
    },
    {
     "name": "stdout",
     "output_type": "stream",
     "text": [
      "\n"
     ]
    },
    {
     "data": {
      "application/vnd.jupyter.widget-view+json": {
       "model_id": "cf32487a5c3d4a898ca91e270c3f266b",
       "version_major": 2,
       "version_minor": 0
      },
      "text/plain": [
       "HBox(children=(FloatProgress(value=0.0, description='Downloading', max=213450.0, style=ProgressStyle(descripti…"
      ]
     },
     "metadata": {
      "tags": []
     },
     "output_type": "display_data"
    },
    {
     "name": "stdout",
     "output_type": "stream",
     "text": [
      "\n"
     ]
    },
    {
     "data": {
      "application/vnd.jupyter.widget-view+json": {
       "model_id": "50993327f1d04882a66df50dd30cff3e",
       "version_major": 2,
       "version_minor": 0
      },
      "text/plain": [
       "HBox(children=(FloatProgress(value=0.0, description='Downloading', max=998.0, style=ProgressStyle(description_…"
      ]
     },
     "metadata": {
      "tags": []
     },
     "output_type": "display_data"
    },
    {
     "name": "stdout",
     "output_type": "stream",
     "text": [
      "\n"
     ]
    },
    {
     "data": {
      "application/vnd.jupyter.widget-view+json": {
       "model_id": "ffd924b0cc9d492d888e5da831481033",
       "version_major": 2,
       "version_minor": 0
      },
      "text/plain": [
       "HBox(children=(FloatProgress(value=0.0, description='Downloading', max=230.0, style=ProgressStyle(description_…"
      ]
     },
     "metadata": {
      "tags": []
     },
     "output_type": "display_data"
    },
    {
     "name": "stdout",
     "output_type": "stream",
     "text": [
      "\n"
     ]
    },
    {
     "data": {
      "application/vnd.jupyter.widget-view+json": {
       "model_id": "5b66512a4f6944b2ab0a78631d502da3",
       "version_major": 2,
       "version_minor": 0
      },
      "text/plain": [
       "HBox(children=(FloatProgress(value=0.0, description='Downloading', max=1334448817.0, style=ProgressStyle(descr…"
      ]
     },
     "metadata": {
      "tags": []
     },
     "output_type": "display_data"
    },
    {
     "name": "stdout",
     "output_type": "stream",
     "text": [
      "\n",
      "[{'word': 'Hu', 'score': 0.9995632767677307, 'entity': 'I-ORG', 'index': 1}, {'word': '##gging', 'score': 0.9915938377380371, 'entity': 'I-ORG', 'index': 2}, {'word': 'Face', 'score': 0.9982671737670898, 'entity': 'I-ORG', 'index': 3}, {'word': 'Inc', 'score': 0.9994403719902039, 'entity': 'I-ORG', 'index': 4}, {'word': 'New', 'score': 0.9994346499443054, 'entity': 'I-LOC', 'index': 11}, {'word': 'York', 'score': 0.9993270635604858, 'entity': 'I-LOC', 'index': 12}, {'word': 'City', 'score': 0.9993864893913269, 'entity': 'I-LOC', 'index': 13}, {'word': 'D', 'score': 0.9825621843338013, 'entity': 'I-LOC', 'index': 19}, {'word': '##UM', 'score': 0.936983048915863, 'entity': 'I-LOC', 'index': 20}, {'word': '##BO', 'score': 0.8987101316452026, 'entity': 'I-LOC', 'index': 21}, {'word': 'Manhattan', 'score': 0.9758241176605225, 'entity': 'I-LOC', 'index': 29}, {'word': 'Bridge', 'score': 0.9902493953704834, 'entity': 'I-LOC', 'index': 30}]\n"
     ]
    }
   ],
   "source": [
    "#@title Named Entity Recognition(NER)\n",
    "from transformers import pipeline\n",
    "nlp = pipeline(\"ner\")\n",
    "sequence = \"Hugging Face Inc. is a company based in New York City. Its headquarters are in DUMBO, therefore very\" \\\n",
    "           \"close to the Manhattan Bridge which is visible from the window.\"\n",
    "print(nlp(sequence))"
   ]
  },
  {
   "cell_type": "markdown",
   "metadata": {
    "colab_type": "text",
    "id": "lbwBChUX7grO"
   },
   "source": [
    "prosody represented by \"ha,ha\" with sure. Could be positive or negative. Context required. \"Not\" \"else\", \"however\" are too strong in this model."
   ]
  },
  {
   "cell_type": "code",
   "execution_count": 5,
   "metadata": {
    "colab": {
     "base_uri": "https://localhost:8080/",
     "height": 213,
     "referenced_widgets": [
      "10323e3b6d3f43b6b0d0e23de45b5729",
      "8bc14cbd5a01449eb01f2e01e9db2fa2",
      "43faf48017b84e8b9b0c5bf29337ed30",
      "7eccb6f09783498ab44020360c1e0062",
      "6738833ebeb94b60912151d886ca083e",
      "6b4c9bb4710541b29c2894739c24472c",
      "f2febefe55c64bea8d5fa39b8c94ba01",
      "1a8391734975484ca3feaf86d6da1161",
      "1314be84dd424e94b13ee568840c7ea2",
      "63392f66c53d479199e24d8d8a45823a",
      "0cdc54e5dc434c73be4ef332025d0d97",
      "bd0ab5247d6349819f4ba64533e5cc80",
      "e31316c758bb4236905d4291302a9e15",
      "20af50bd6ae74e31b3c0b7f2b6e054d5",
      "8b035f4d02f2447a961ce83766868e09",
      "28c23c928d8c440783419e71bfb917d7",
      "f5c80d9b2f804af3a4bf07f97ba06bf1",
      "bcfe5e255d8a422baf1175c3b23e52e5",
      "b50f807793aa404f9ce54c55403f8dd3",
      "6edc69c824bc4f63914e5850e589448a",
      "224b69b50c9846a1b244134d23635efd",
      "e26e0596f8534c79b7595361eda687ce",
      "d04989abce5d481dbee28ac450a32d2d",
      "38a758bfadeb443686bc615481cd9da9",
      "0d335835f44548efadcf0ecd8a49e391",
      "b08f64e0d5994eb9adffdfc1d48e9088",
      "45ea2974a40c4786a43ee07cdbbcd693",
      "35dd5a9f5c0843838571880dc058661a",
      "c1e3435e66d64c498e2334da0c521b60",
      "39500a63ce0c401a8f52d3f1610e14a3",
      "e1be44708f6d4fc0a64a36953787eef0",
      "13edcd9f5be5479d894bbe150c64e3d0"
     ]
    },
    "colab_type": "code",
    "id": "l871bLNcNWiA",
    "outputId": "37e7bce6-1c08-4872-e78a-1f9ebc9f32dd"
   },
   "outputs": [
    {
     "data": {
      "application/vnd.jupyter.widget-view+json": {
       "model_id": "10323e3b6d3f43b6b0d0e23de45b5729",
       "version_major": 2,
       "version_minor": 0
      },
      "text/plain": [
       "HBox(children=(FloatProgress(value=0.0, description='Downloading', max=1199.0, style=ProgressStyle(description…"
      ]
     },
     "metadata": {
      "tags": []
     },
     "output_type": "display_data"
    },
    {
     "name": "stdout",
     "output_type": "stream",
     "text": [
      "\n"
     ]
    },
    {
     "data": {
      "application/vnd.jupyter.widget-view+json": {
       "model_id": "1314be84dd424e94b13ee568840c7ea2",
       "version_major": 2,
       "version_minor": 0
      },
      "text/plain": [
       "HBox(children=(FloatProgress(value=0.0, description='Downloading', max=791656.0, style=ProgressStyle(descripti…"
      ]
     },
     "metadata": {
      "tags": []
     },
     "output_type": "display_data"
    },
    {
     "name": "stdout",
     "output_type": "stream",
     "text": [
      "\n"
     ]
    },
    {
     "data": {
      "application/vnd.jupyter.widget-view+json": {
       "model_id": "f5c80d9b2f804af3a4bf07f97ba06bf1",
       "version_major": 2,
       "version_minor": 0
      },
      "text/plain": [
       "HBox(children=(FloatProgress(value=0.0, description='Downloading', max=230.0, style=ProgressStyle(description_…"
      ]
     },
     "metadata": {
      "tags": []
     },
     "output_type": "display_data"
    },
    {
     "name": "stdout",
     "output_type": "stream",
     "text": [
      "\n"
     ]
    },
    {
     "data": {
      "application/vnd.jupyter.widget-view+json": {
       "model_id": "0d335835f44548efadcf0ecd8a49e391",
       "version_major": 2,
       "version_minor": 0
      },
      "text/plain": [
       "HBox(children=(FloatProgress(value=0.0, description='Downloading', max=891691430.0, style=ProgressStyle(descri…"
      ]
     },
     "metadata": {
      "tags": []
     },
     "output_type": "display_data"
    },
    {
     "name": "stdout",
     "output_type": "stream",
     "text": [
      "\n"
     ]
    }
   ],
   "source": [
    "#@title Winograd\n",
    "from transformers import pipeline\n",
    "translator = pipeline(\"translation_en_to_fr\")"
   ]
  },
  {
   "cell_type": "code",
   "execution_count": 6,
   "metadata": {
    "colab": {
     "base_uri": "https://localhost:8080/",
     "height": 34
    },
    "colab_type": "code",
    "id": "Jslzg16dTa0K",
    "outputId": "083a682a-2b86-47c7-c6fd-ffc83f5cd829"
   },
   "outputs": [
    {
     "name": "stdout",
     "output_type": "stream",
     "text": [
      "[{'translation_text': \"La voiture ne pouvait pas aller dans le garage parce qu'elle était trop grosse.\"}]\n"
     ]
    }
   ],
   "source": [
    "print(translator(\"The car could not go in the garage because it was too big.\", max_length=40))"
   ]
  }
 ],
 "metadata": {
  "accelerator": "GPU",
  "colab": {
   "collapsed_sections": [],
   "name": "Transformer tasks.ipynb",
   "provenance": [],
   "toc_visible": true
  },
  "kernelspec": {
   "display_name": "Python 3 (ipykernel)",
   "language": "python",
   "name": "python3"
  },
  "language_info": {
   "codemirror_mode": {
    "name": "ipython",
    "version": 3
   },
   "file_extension": ".py",
   "mimetype": "text/x-python",
   "name": "python",
   "nbconvert_exporter": "python",
   "pygments_lexer": "ipython3",
   "version": "3.10.9"
  },
  "widgets": {
   "application/vnd.jupyter.widget-state+json": {
    "state": {},
    "version_major": 2,
    "version_minor": 0
   }
  }
 },
 "nbformat": 4,
 "nbformat_minor": 4
}
